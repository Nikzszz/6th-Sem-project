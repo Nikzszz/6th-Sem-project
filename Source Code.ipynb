{
 "cells": [
  {
   "cell_type": "code",
   "execution_count": 19,
   "metadata": {},
   "outputs": [],
   "source": [
    "import keras\n",
    "from keras.models import Sequential\n",
    "from keras.layers import Dense, Conv2D\n",
    "from keras.layers.pooling import MaxPooling2D"
   ]
  },
  {
   "cell_type": "code",
   "execution_count": 20,
   "metadata": {},
   "outputs": [],
   "source": [
    "import os\n",
    "import numpy as np\n",
    "import pandas as pd"
   ]
  },
  {
   "cell_type": "code",
   "execution_count": 21,
   "metadata": {},
   "outputs": [],
   "source": [
    "os.chdir(\"/home/rohit/6th-Sem-project/code\")"
   ]
  },
  {
   "cell_type": "markdown",
   "metadata": {},
   "source": [
    "Either change the directory to where the dataset is present ( By using the os library in Python)"
   ]
  },
  {
   "cell_type": "code",
   "execution_count": 22,
   "metadata": {},
   "outputs": [],
   "source": [
    "#Loading the data...\n",
    "# OR Make sure this iPython and Data.npz are in same directory\n",
    "data = np.load(\"Data.npz\")"
   ]
  },
  {
   "cell_type": "code",
   "execution_count": 23,
   "metadata": {},
   "outputs": [],
   "source": [
    "#X has the gray scale pixel values\n",
    "#blu has the Blue channel pixel values and so on...\n",
    "X,blu,red,gre = data[\"X\"],data[\"blu\"],data[\"red\"],data[\"gre\"]"
   ]
  },
  {
   "cell_type": "code",
   "execution_count": 24,
   "metadata": {},
   "outputs": [
    {
     "data": {
      "text/plain": [
       "(328, 256, 256, 1)"
      ]
     },
     "execution_count": 24,
     "metadata": {},
     "output_type": "execute_result"
    }
   ],
   "source": [
    "#The output of this block should be :\n",
    "#(328, 256, 256, 1)\n",
    "#328 is the number of exapmles i.e entries in the dataset\n",
    "#(256, 256) is the size of the image\n",
    "# The one in the end means its only a single channel i.e only gray scale\n",
    "X.shape"
   ]
  },
  {
   "cell_type": "code",
   "execution_count": 25,
   "metadata": {},
   "outputs": [],
   "source": [
    "#Model/Architecture/Neural Net for our code...\n",
    "#There are three networks one for each channel so you have to train all three of them\n",
    "#Try running this as it is...if you think the processing is going smoothly then.... \n",
    "#....try un-commenting some layers (But not the MaxPooling ones) \n",
    "#Make sure to make the same changes in all three of the networks if you make any....\n",
    "\n",
    "\n",
    "#For Blue Channel\n",
    "model_blu=Sequential()\n",
    "model_blu.add(Conv2D(64,kernel_size=(1,1), input_shape=(256,256,1), activation='relu'))\n",
    "model_blu.add(Conv2D(64,kernel_size=(3,3), activation='relu',padding=\"same\"))\n",
    "#model_blu.add(MaxPooling2D(padding=\"same\"))\n",
    "#model_blu.add(Conv2D(128,kernel_size=(1,1), activation='relu'))\n",
    "model_blu.add(Conv2D(128,kernel_size=(3,3), activation='relu',padding=\"same\"))\n",
    "#model_blu.add(MaxPooling2D(padding=\"same\"))\n",
    "#model_blu.add(Conv2D(256,kernel_size=(1,1), activation='relu'))\n",
    "#model_blu.add(Conv2D(256,kernel_size=(1,1), activation='relu'))\n",
    "model_blu.add(Conv2D(256,kernel_size=(3,3), activation='relu',padding=\"same\"))\n",
    "#model_blu.add(MaxPooling2D(padding=\"same\"))\n",
    "#model_blu.add(Conv2D(512,kernel_size=(1,1), activation='relu'))\n",
    "#model_blu.add(Conv2D(512,kernel_size=(1,1), activation='relu'))\n",
    "#model_blu.add(Conv2D(512,kernel_size=(3,3), activation='relu',padding=\"same\"))\n",
    "#model_blu.add(MaxPooling2D(padding=\"same\"))\n",
    "#model_blu.add(Conv2D(256,kernel_size=(1,1), activation='relu'))\n",
    "#model_blu.add(Conv2D(256,kernel_size=(1,1), activation='relu'))\n",
    "#model_blu.add(Conv2D(256,kernel_size=(3,3), activation='relu',padding=\"same\"))\n",
    "#model_blu.add(MaxPooling2D(padding=\"same\"))\n",
    "model_blu.add(Conv2D(128,kernel_size=(1,1), activation='relu'))\n",
    "model_blu.add(Conv2D(64,kernel_size=(3,3), activation='relu',padding=\"same\"))\n",
    "model_blu.add(Conv2D(64,kernel_size=(1,1), activation='relu'))\n",
    "#model_blu.add(Conv2D(64,kernel_size=(3,3), activation='relu',padding=\"same\"))\n",
    "model_blu.add(Conv2D(1,kernel_size=(1,1), activation='relu'))"
   ]
  },
  {
   "cell_type": "code",
   "execution_count": 26,
   "metadata": {},
   "outputs": [],
   "source": [
    "#For Red Channel\n",
    "model_red=Sequential()\n",
    "model_red.add(Conv2D(64,kernel_size=(1,1), input_shape=(256,256,1), activation='relu'))\n",
    "model_red.add(Conv2D(64,kernel_size=(3,3), activation='relu',padding=\"same\"))\n",
    "#model_red.add(MaxPooling2D(padding=\"same\"))\n",
    "#model_red.add(Conv2D(128,kernel_size=(1,1), activation='relu'))\n",
    "model_red.add(Conv2D(128,kernel_size=(3,3), activation='relu',padding=\"same\"))\n",
    "#model_red.add(MaxPooling2D(padding=\"same\"))\n",
    "#model_red.add(Conv2D(256,kernel_size=(1,1), activation='relu'))\n",
    "#model_red.add(Conv2D(256,kernel_size=(1,1), activation='relu'))\n",
    "model_red.add(Conv2D(256,kernel_size=(3,3), activation='relu',padding=\"same\"))\n",
    "#model_red.add(MaxPooling2D(padding=\"same\"))\n",
    "#model_red.add(Conv2D(512,kernel_size=(1,1), activation='relu'))\n",
    "#model_red.add(Conv2D(512,kernel_size=(1,1), activation='relu'))\n",
    "#model_red.add(Conv2D(512,kernel_size=(3,3), activation='relu',padding=\"same\"))\n",
    "#model_red.add(MaxPooling2D(padding=\"same\"))\n",
    "#model_red.add(Conv2D(256,kernel_size=(1,1), activation='relu'))\n",
    "#model_red.add(Conv2D(256,kernel_size=(1,1), activation='relu'))\n",
    "#model_red.add(Conv2D(256,kernel_size=(3,3), activation='relu',padding=\"same\"))\n",
    "#model_red.add(MaxPooling2D(padding=\"same\"))\n",
    "model_red.add(Conv2D(128,kernel_size=(1,1), activation='relu'))\n",
    "#model_red.add(Conv2D(128,kernel_size=(3,3), activation='relu',padding=\"same\"))\n",
    "model_red.add(Conv2D(64,kernel_size=(3,3), activation='relu',padding=\"same\"))\n",
    "model_red.add(Conv2D(64,kernel_size=(1,1), activation='relu'))\n",
    "#model_red.add(Conv2D(64,kernel_size=(3,3), activation='relu',padding=\"same\"))\n",
    "model_red.add(Conv2D(1,kernel_size=(1,1), activation='relu'))"
   ]
  },
  {
   "cell_type": "code",
   "execution_count": 27,
   "metadata": {},
   "outputs": [],
   "source": [
    "#For Green Channel\n",
    "model_gre=Sequential()\n",
    "model_gre.add(Conv2D(64,kernel_size=(1,1), input_shape=(256,256,1), activation='relu'))\n",
    "model_gre.add(Conv2D(64,kernel_size=(3,3), activation='relu',padding=\"same\"))\n",
    "#model_gre.add(MaxPooling2D(padding=\"same\"))\n",
    "#model_gre.add(Conv2D(128,kernel_size=(1,1), activation='relu'))\n",
    "model_gre.add(Conv2D(128,kernel_size=(3,3), activation='relu',padding=\"same\"))\n",
    "#model_gre.add(MaxPooling2D(padding=\"same\"))\n",
    "#model_gre.add(Conv2D(256,kernel_size=(1,1), activation='relu'))\n",
    "#model_gre.add(Conv2D(256,kernel_size=(1,1), activation='relu'))\n",
    "model_gre.add(Conv2D(256,kernel_size=(3,3), activation='relu',padding=\"same\"))\n",
    "#model_gre.add(MaxPooling2D(padding=\"same\"))\n",
    "#model_gre.add(Conv2D(512,kernel_size=(1,1), activation='relu'))\n",
    "#model_gre.add(Conv2D(512,kernel_size=(1,1), activation='relu'))\n",
    "#model_gre.add(Conv2D(512,kernel_size=(3,3), activation='relu',padding=\"same\"))\n",
    "#model_gre.add(MaxPooling2D(padding=\"same\"))\n",
    "#model_gre.add(Conv2D(256,kernel_size=(1,1), activation='relu'))\n",
    "#model_gre.add(Conv2D(256,kernel_size=(1,1), activation='relu'))\n",
    "#model_gre.add(Conv2D(256,kernel_size=(3,3), activation='relu',padding=\"same\"))\n",
    "#model_gre.add(MaxPooling2D(padding=\"same\"))\n",
    "model_gre.add(Conv2D(128,kernel_size=(1,1), activation='relu'))\n",
    "#model_gre.add(Conv2D(128,kernel_size=(3,3), activation='relu',padding=\"same\"))\n",
    "model_gre.add(Conv2D(64,kernel_size=(3,3), activation='relu',padding=\"same\"))\n",
    "model_gre.add(Conv2D(64,kernel_size=(1,1), activation='relu'))\n",
    "#model_gre.add(Conv2D(64,kernel_size=(3,3), activation='relu',padding=\"same\"))\n",
    "model_gre.add(Conv2D(1,kernel_size=(1,1), activation='relu'))"
   ]
  },
  {
   "cell_type": "code",
   "execution_count": 28,
   "metadata": {},
   "outputs": [],
   "source": [
    "model_blu.compile(optimizer=\"adam\", loss=\"mean_squared_error\")\n",
    "model_red.compile(optimizer=\"adam\", loss=\"mean_squared_error\")\n",
    "model_gre.compile(optimizer=\"adam\", loss=\"mean_squared_error\")"
   ]
  },
  {
   "cell_type": "code",
   "execution_count": 29,
   "metadata": {},
   "outputs": [
    {
     "name": "stdout",
     "output_type": "stream",
     "text": [
      "Epoch 1/1\n"
     ]
    },
    {
     "ename": "ResourceExhaustedError",
     "evalue": "OOM when allocating tensor with shape[32,128,256,256] and type float on /job:localhost/replica:0/task:0/device:GPU:0 by allocator GPU_0_bfc\n\t [[{{node conv2d_35/convolution}} = Conv2D[T=DT_FLOAT, _class=[\"loc:@training_1/Adam/gradients/conv2d_35/convolution_grad/Conv2DBackpropInput\"], data_format=\"NCHW\", dilations=[1, 1, 1, 1], padding=\"SAME\", strides=[1, 1, 1, 1], use_cudnn_on_gpu=true, _device=\"/job:localhost/replica:0/task:0/device:GPU:0\"](conv2d_34/Relu, conv2d_35/kernel/read)]]\nHint: If you want to see a list of allocated tensors when OOM happens, add report_tensor_allocations_upon_oom to RunOptions for current allocation info.\n\n\t [[{{node loss_2/mul/_525}} = _Recv[client_terminated=false, recv_device=\"/job:localhost/replica:0/task:0/device:CPU:0\", send_device=\"/job:localhost/replica:0/task:0/device:GPU:0\", send_device_incarnation=1, tensor_name=\"edge_961_loss_2/mul\", tensor_type=DT_FLOAT, _device=\"/job:localhost/replica:0/task:0/device:CPU:0\"]()]]\nHint: If you want to see a list of allocated tensors when OOM happens, add report_tensor_allocations_upon_oom to RunOptions for current allocation info.\n",
     "output_type": "error",
     "traceback": [
      "\u001b[0;31m---------------------------------------------------------------------------\u001b[0m",
      "\u001b[0;31mResourceExhaustedError\u001b[0m                    Traceback (most recent call last)",
      "\u001b[0;32m<ipython-input-29-d6c4ed183e9e>\u001b[0m in \u001b[0;36m<module>\u001b[0;34m\u001b[0m\n\u001b[1;32m      1\u001b[0m \u001b[0;31m#This block executes the training for the blue channel\u001b[0m\u001b[0;34m\u001b[0m\u001b[0;34m\u001b[0m\u001b[0;34m\u001b[0m\u001b[0m\n\u001b[0;32m----> 2\u001b[0;31m \u001b[0mmodel_blu\u001b[0m\u001b[0;34m.\u001b[0m\u001b[0mfit\u001b[0m\u001b[0;34m(\u001b[0m\u001b[0mX\u001b[0m\u001b[0;34m,\u001b[0m\u001b[0mblu\u001b[0m\u001b[0;34m)\u001b[0m\u001b[0;34m\u001b[0m\u001b[0;34m\u001b[0m\u001b[0m\n\u001b[0m",
      "\u001b[0;32m~/anaconda3/envs/green_leaf/lib/python3.6/site-packages/keras/engine/training.py\u001b[0m in \u001b[0;36mfit\u001b[0;34m(self, x, y, batch_size, epochs, verbose, callbacks, validation_split, validation_data, shuffle, class_weight, sample_weight, initial_epoch, steps_per_epoch, validation_steps, **kwargs)\u001b[0m\n\u001b[1;32m   1037\u001b[0m                                         \u001b[0minitial_epoch\u001b[0m\u001b[0;34m=\u001b[0m\u001b[0minitial_epoch\u001b[0m\u001b[0;34m,\u001b[0m\u001b[0;34m\u001b[0m\u001b[0;34m\u001b[0m\u001b[0m\n\u001b[1;32m   1038\u001b[0m                                         \u001b[0msteps_per_epoch\u001b[0m\u001b[0;34m=\u001b[0m\u001b[0msteps_per_epoch\u001b[0m\u001b[0;34m,\u001b[0m\u001b[0;34m\u001b[0m\u001b[0;34m\u001b[0m\u001b[0m\n\u001b[0;32m-> 1039\u001b[0;31m                                         validation_steps=validation_steps)\n\u001b[0m\u001b[1;32m   1040\u001b[0m \u001b[0;34m\u001b[0m\u001b[0m\n\u001b[1;32m   1041\u001b[0m     def evaluate(self, x=None, y=None,\n",
      "\u001b[0;32m~/anaconda3/envs/green_leaf/lib/python3.6/site-packages/keras/engine/training_arrays.py\u001b[0m in \u001b[0;36mfit_loop\u001b[0;34m(model, f, ins, out_labels, batch_size, epochs, verbose, callbacks, val_f, val_ins, shuffle, callback_metrics, initial_epoch, steps_per_epoch, validation_steps)\u001b[0m\n\u001b[1;32m    197\u001b[0m                     \u001b[0mins_batch\u001b[0m\u001b[0;34m[\u001b[0m\u001b[0mi\u001b[0m\u001b[0;34m]\u001b[0m \u001b[0;34m=\u001b[0m \u001b[0mins_batch\u001b[0m\u001b[0;34m[\u001b[0m\u001b[0mi\u001b[0m\u001b[0;34m]\u001b[0m\u001b[0;34m.\u001b[0m\u001b[0mtoarray\u001b[0m\u001b[0;34m(\u001b[0m\u001b[0;34m)\u001b[0m\u001b[0;34m\u001b[0m\u001b[0;34m\u001b[0m\u001b[0m\n\u001b[1;32m    198\u001b[0m \u001b[0;34m\u001b[0m\u001b[0m\n\u001b[0;32m--> 199\u001b[0;31m                 \u001b[0mouts\u001b[0m \u001b[0;34m=\u001b[0m \u001b[0mf\u001b[0m\u001b[0;34m(\u001b[0m\u001b[0mins_batch\u001b[0m\u001b[0;34m)\u001b[0m\u001b[0;34m\u001b[0m\u001b[0;34m\u001b[0m\u001b[0m\n\u001b[0m\u001b[1;32m    200\u001b[0m                 \u001b[0mouts\u001b[0m \u001b[0;34m=\u001b[0m \u001b[0mto_list\u001b[0m\u001b[0;34m(\u001b[0m\u001b[0mouts\u001b[0m\u001b[0;34m)\u001b[0m\u001b[0;34m\u001b[0m\u001b[0;34m\u001b[0m\u001b[0m\n\u001b[1;32m    201\u001b[0m                 \u001b[0;32mfor\u001b[0m \u001b[0ml\u001b[0m\u001b[0;34m,\u001b[0m \u001b[0mo\u001b[0m \u001b[0;32min\u001b[0m \u001b[0mzip\u001b[0m\u001b[0;34m(\u001b[0m\u001b[0mout_labels\u001b[0m\u001b[0;34m,\u001b[0m \u001b[0mouts\u001b[0m\u001b[0;34m)\u001b[0m\u001b[0;34m:\u001b[0m\u001b[0;34m\u001b[0m\u001b[0;34m\u001b[0m\u001b[0m\n",
      "\u001b[0;32m~/anaconda3/envs/green_leaf/lib/python3.6/site-packages/keras/backend/tensorflow_backend.py\u001b[0m in \u001b[0;36m__call__\u001b[0;34m(self, inputs)\u001b[0m\n\u001b[1;32m   2713\u001b[0m                 \u001b[0;32mreturn\u001b[0m \u001b[0mself\u001b[0m\u001b[0;34m.\u001b[0m\u001b[0m_legacy_call\u001b[0m\u001b[0;34m(\u001b[0m\u001b[0minputs\u001b[0m\u001b[0;34m)\u001b[0m\u001b[0;34m\u001b[0m\u001b[0;34m\u001b[0m\u001b[0m\n\u001b[1;32m   2714\u001b[0m \u001b[0;34m\u001b[0m\u001b[0m\n\u001b[0;32m-> 2715\u001b[0;31m             \u001b[0;32mreturn\u001b[0m \u001b[0mself\u001b[0m\u001b[0;34m.\u001b[0m\u001b[0m_call\u001b[0m\u001b[0;34m(\u001b[0m\u001b[0minputs\u001b[0m\u001b[0;34m)\u001b[0m\u001b[0;34m\u001b[0m\u001b[0;34m\u001b[0m\u001b[0m\n\u001b[0m\u001b[1;32m   2716\u001b[0m         \u001b[0;32melse\u001b[0m\u001b[0;34m:\u001b[0m\u001b[0;34m\u001b[0m\u001b[0;34m\u001b[0m\u001b[0m\n\u001b[1;32m   2717\u001b[0m             \u001b[0;32mif\u001b[0m \u001b[0mpy_any\u001b[0m\u001b[0;34m(\u001b[0m\u001b[0mis_tensor\u001b[0m\u001b[0;34m(\u001b[0m\u001b[0mx\u001b[0m\u001b[0;34m)\u001b[0m \u001b[0;32mfor\u001b[0m \u001b[0mx\u001b[0m \u001b[0;32min\u001b[0m \u001b[0minputs\u001b[0m\u001b[0;34m)\u001b[0m\u001b[0;34m:\u001b[0m\u001b[0;34m\u001b[0m\u001b[0;34m\u001b[0m\u001b[0m\n",
      "\u001b[0;32m~/anaconda3/envs/green_leaf/lib/python3.6/site-packages/keras/backend/tensorflow_backend.py\u001b[0m in \u001b[0;36m_call\u001b[0;34m(self, inputs)\u001b[0m\n\u001b[1;32m   2673\u001b[0m             \u001b[0mfetched\u001b[0m \u001b[0;34m=\u001b[0m \u001b[0mself\u001b[0m\u001b[0;34m.\u001b[0m\u001b[0m_callable_fn\u001b[0m\u001b[0;34m(\u001b[0m\u001b[0;34m*\u001b[0m\u001b[0marray_vals\u001b[0m\u001b[0;34m,\u001b[0m \u001b[0mrun_metadata\u001b[0m\u001b[0;34m=\u001b[0m\u001b[0mself\u001b[0m\u001b[0;34m.\u001b[0m\u001b[0mrun_metadata\u001b[0m\u001b[0;34m)\u001b[0m\u001b[0;34m\u001b[0m\u001b[0;34m\u001b[0m\u001b[0m\n\u001b[1;32m   2674\u001b[0m         \u001b[0;32melse\u001b[0m\u001b[0;34m:\u001b[0m\u001b[0;34m\u001b[0m\u001b[0;34m\u001b[0m\u001b[0m\n\u001b[0;32m-> 2675\u001b[0;31m             \u001b[0mfetched\u001b[0m \u001b[0;34m=\u001b[0m \u001b[0mself\u001b[0m\u001b[0;34m.\u001b[0m\u001b[0m_callable_fn\u001b[0m\u001b[0;34m(\u001b[0m\u001b[0;34m*\u001b[0m\u001b[0marray_vals\u001b[0m\u001b[0;34m)\u001b[0m\u001b[0;34m\u001b[0m\u001b[0;34m\u001b[0m\u001b[0m\n\u001b[0m\u001b[1;32m   2676\u001b[0m         \u001b[0;32mreturn\u001b[0m \u001b[0mfetched\u001b[0m\u001b[0;34m[\u001b[0m\u001b[0;34m:\u001b[0m\u001b[0mlen\u001b[0m\u001b[0;34m(\u001b[0m\u001b[0mself\u001b[0m\u001b[0;34m.\u001b[0m\u001b[0moutputs\u001b[0m\u001b[0;34m)\u001b[0m\u001b[0;34m]\u001b[0m\u001b[0;34m\u001b[0m\u001b[0;34m\u001b[0m\u001b[0m\n\u001b[1;32m   2677\u001b[0m \u001b[0;34m\u001b[0m\u001b[0m\n",
      "\u001b[0;32m~/anaconda3/envs/green_leaf/lib/python3.6/site-packages/tensorflow/python/client/session.py\u001b[0m in \u001b[0;36m__call__\u001b[0;34m(self, *args, **kwargs)\u001b[0m\n\u001b[1;32m   1437\u001b[0m           ret = tf_session.TF_SessionRunCallable(\n\u001b[1;32m   1438\u001b[0m               \u001b[0mself\u001b[0m\u001b[0;34m.\u001b[0m\u001b[0m_session\u001b[0m\u001b[0;34m.\u001b[0m\u001b[0m_session\u001b[0m\u001b[0;34m,\u001b[0m \u001b[0mself\u001b[0m\u001b[0;34m.\u001b[0m\u001b[0m_handle\u001b[0m\u001b[0;34m,\u001b[0m \u001b[0margs\u001b[0m\u001b[0;34m,\u001b[0m \u001b[0mstatus\u001b[0m\u001b[0;34m,\u001b[0m\u001b[0;34m\u001b[0m\u001b[0;34m\u001b[0m\u001b[0m\n\u001b[0;32m-> 1439\u001b[0;31m               run_metadata_ptr)\n\u001b[0m\u001b[1;32m   1440\u001b[0m         \u001b[0;32mif\u001b[0m \u001b[0mrun_metadata\u001b[0m\u001b[0;34m:\u001b[0m\u001b[0;34m\u001b[0m\u001b[0;34m\u001b[0m\u001b[0m\n\u001b[1;32m   1441\u001b[0m           \u001b[0mproto_data\u001b[0m \u001b[0;34m=\u001b[0m \u001b[0mtf_session\u001b[0m\u001b[0;34m.\u001b[0m\u001b[0mTF_GetBuffer\u001b[0m\u001b[0;34m(\u001b[0m\u001b[0mrun_metadata_ptr\u001b[0m\u001b[0;34m)\u001b[0m\u001b[0;34m\u001b[0m\u001b[0;34m\u001b[0m\u001b[0m\n",
      "\u001b[0;32m~/anaconda3/envs/green_leaf/lib/python3.6/site-packages/tensorflow/python/framework/errors_impl.py\u001b[0m in \u001b[0;36m__exit__\u001b[0;34m(self, type_arg, value_arg, traceback_arg)\u001b[0m\n\u001b[1;32m    526\u001b[0m             \u001b[0;32mNone\u001b[0m\u001b[0;34m,\u001b[0m \u001b[0;32mNone\u001b[0m\u001b[0;34m,\u001b[0m\u001b[0;34m\u001b[0m\u001b[0;34m\u001b[0m\u001b[0m\n\u001b[1;32m    527\u001b[0m             \u001b[0mcompat\u001b[0m\u001b[0;34m.\u001b[0m\u001b[0mas_text\u001b[0m\u001b[0;34m(\u001b[0m\u001b[0mc_api\u001b[0m\u001b[0;34m.\u001b[0m\u001b[0mTF_Message\u001b[0m\u001b[0;34m(\u001b[0m\u001b[0mself\u001b[0m\u001b[0;34m.\u001b[0m\u001b[0mstatus\u001b[0m\u001b[0;34m.\u001b[0m\u001b[0mstatus\u001b[0m\u001b[0;34m)\u001b[0m\u001b[0;34m)\u001b[0m\u001b[0;34m,\u001b[0m\u001b[0;34m\u001b[0m\u001b[0;34m\u001b[0m\u001b[0m\n\u001b[0;32m--> 528\u001b[0;31m             c_api.TF_GetCode(self.status.status))\n\u001b[0m\u001b[1;32m    529\u001b[0m     \u001b[0;31m# Delete the underlying status object from memory otherwise it stays alive\u001b[0m\u001b[0;34m\u001b[0m\u001b[0;34m\u001b[0m\u001b[0;34m\u001b[0m\u001b[0m\n\u001b[1;32m    530\u001b[0m     \u001b[0;31m# as there is a reference to status from this from the traceback due to\u001b[0m\u001b[0;34m\u001b[0m\u001b[0;34m\u001b[0m\u001b[0;34m\u001b[0m\u001b[0m\n",
      "\u001b[0;31mResourceExhaustedError\u001b[0m: OOM when allocating tensor with shape[32,128,256,256] and type float on /job:localhost/replica:0/task:0/device:GPU:0 by allocator GPU_0_bfc\n\t [[{{node conv2d_35/convolution}} = Conv2D[T=DT_FLOAT, _class=[\"loc:@training_1/Adam/gradients/conv2d_35/convolution_grad/Conv2DBackpropInput\"], data_format=\"NCHW\", dilations=[1, 1, 1, 1], padding=\"SAME\", strides=[1, 1, 1, 1], use_cudnn_on_gpu=true, _device=\"/job:localhost/replica:0/task:0/device:GPU:0\"](conv2d_34/Relu, conv2d_35/kernel/read)]]\nHint: If you want to see a list of allocated tensors when OOM happens, add report_tensor_allocations_upon_oom to RunOptions for current allocation info.\n\n\t [[{{node loss_2/mul/_525}} = _Recv[client_terminated=false, recv_device=\"/job:localhost/replica:0/task:0/device:CPU:0\", send_device=\"/job:localhost/replica:0/task:0/device:GPU:0\", send_device_incarnation=1, tensor_name=\"edge_961_loss_2/mul\", tensor_type=DT_FLOAT, _device=\"/job:localhost/replica:0/task:0/device:CPU:0\"]()]]\nHint: If you want to see a list of allocated tensors when OOM happens, add report_tensor_allocations_upon_oom to RunOptions for current allocation info.\n"
     ]
    }
   ],
   "source": [
    "#This block executes the training for the blue channel \n",
    "model_blu.fit(X,blu)"
   ]
  },
  {
   "cell_type": "code",
   "execution_count": null,
   "metadata": {},
   "outputs": [],
   "source": [
    "#This block saves the trained model \n",
    "#We only need these three \".h5\" files..\n",
    "#If this gives an error then try removing the .h5 \n",
    "model_blu.save(\"blu_rl.h5\")"
   ]
  },
  {
   "cell_type": "code",
   "execution_count": null,
   "metadata": {},
   "outputs": [],
   "source": [
    "model_gre.fit(X,gre)"
   ]
  },
  {
   "cell_type": "code",
   "execution_count": null,
   "metadata": {},
   "outputs": [],
   "source": [
    "model_gre.save(\"gre_rl.h5\")"
   ]
  },
  {
   "cell_type": "code",
   "execution_count": null,
   "metadata": {},
   "outputs": [],
   "source": [
    "model_red.fit(X,red)"
   ]
  },
  {
   "cell_type": "code",
   "execution_count": null,
   "metadata": {},
   "outputs": [],
   "source": [
    "model_red.save(\"red_rl.h5\")"
   ]
  },
  {
   "cell_type": "code",
   "execution_count": null,
   "metadata": {},
   "outputs": [],
   "source": []
  }
 ],
 "metadata": {
  "kernelspec": {
   "display_name": "Python 3",
   "language": "python",
   "name": "python3"
  },
  "language_info": {
   "codemirror_mode": {
    "name": "ipython",
    "version": 3
   },
   "file_extension": ".py",
   "mimetype": "text/x-python",
   "name": "python",
   "nbconvert_exporter": "python",
   "pygments_lexer": "ipython3",
   "version": "3.6.8"
  }
 },
 "nbformat": 4,
 "nbformat_minor": 2
}
