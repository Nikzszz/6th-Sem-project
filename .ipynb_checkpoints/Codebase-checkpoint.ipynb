{
 "cells": [
  {
   "cell_type": "code",
   "execution_count": null,
   "metadata": {},
   "outputs": [],
   "source": [
    "import numpy as np\n",
    "import cv2\n",
    "import matplotlib.pyplot as plt\n",
    "from tqdm import tqdm\n",
    "from keras.layers import add, Conv2D, Input\n",
    "from keras.models import Model, load_model\n",
    "from keras import backend as K\n",
    "import os\n",
    "import warnings\n",
    "warnings.filterwarnings(\"ignore\")"
   ]
  },
  {
   "cell_type": "code",
   "execution_count": null,
   "metadata": {},
   "outputs": [],
   "source": [
    "def noise(img):\n",
    "  svp = 0.5 \n",
    "  amt = 1 \n",
    "  out = np.copy(img)\n",
    "  #Salt\n",
    "  ns = np.ceil(amt*img.size * svp)\n",
    "  pix = [np.random.randint(0,i,int(ns)) for i in img.shape] \n",
    "  out[pix] = 1\n",
    "  #Pepper\n",
    "  npp = np.ceil(amt*img.size * (1. - svp))\n",
    "  pix = [np.random.randint(0,i,int(npp)) for i in img.shape] \n",
    "  out[pix] = 0\n",
    "  return out"
   ]
  },
  {
   "cell_type": "code",
   "execution_count": null,
   "metadata": {},
   "outputs": [],
   "source": [
    "def img_prep(img):\n",
    "    hsv = cv2.cvtColor(img, cv2.COLOR_BGR2HSV) \n",
    "    hsv[...,2] = hsv[...,2]*0.2\n",
    "    img = cv2.cvtColor(hsv, cv2.COLOR_HSV2BGR)\n",
    "    img = noise(img)\n",
    "    return img"
   ]
  },
  {
   "cell_type": "code",
   "execution_count": null,
   "metadata": {},
   "outputs": [],
   "source": []
  },
  {
   "cell_type": "code",
   "execution_count": null,
   "metadata": {},
   "outputs": [],
   "source": []
  }
 ],
 "metadata": {
  "kernelspec": {
   "display_name": "Python 3",
   "language": "python",
   "name": "python3"
  },
  "language_info": {
   "codemirror_mode": {
    "name": "ipython",
    "version": 3
   },
   "file_extension": ".py",
   "mimetype": "text/x-python",
   "name": "python",
   "nbconvert_exporter": "python",
   "pygments_lexer": "ipython3",
   "version": "3.6.8"
  }
 },
 "nbformat": 4,
 "nbformat_minor": 2
}
