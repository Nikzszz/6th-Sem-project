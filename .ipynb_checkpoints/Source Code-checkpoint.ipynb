{
 "cells": [
  {
   "cell_type": "code",
   "execution_count": 7,
   "metadata": {},
   "outputs": [
    {
     "name": "stderr",
     "output_type": "stream",
     "text": [
      "Using TensorFlow backend.\n"
     ]
    }
   ],
   "source": [
    "import keras\n",
    "from keras.models import Sequential\n",
    "from keras.layers import Dense, Conv2D\n",
    "from keras.layers.pooling import MaxPooling2D"
   ]
  },
  {
   "cell_type": "code",
   "execution_count": 8,
   "metadata": {},
   "outputs": [
    {
     "data": {
      "text/plain": [
       "['/job:localhost/replica:0/task:0/device:GPU:0']"
      ]
     },
     "execution_count": 8,
     "metadata": {},
     "output_type": "execute_result"
    }
   ],
   "source": [
    "from keras import backend as K\n",
    "K.tensorflow_backend._get_available_gpus()"
   ]
  },
  {
   "cell_type": "code",
   "execution_count": 9,
   "metadata": {},
   "outputs": [],
   "source": [
    "import os\n",
    "import numpy as np\n",
    "import pandas as pd"
   ]
  },
  {
   "cell_type": "code",
   "execution_count": 10,
   "metadata": {},
   "outputs": [],
   "source": [
    "os.chdir(\"/home/rohit/Downloads/Autocolor Dataset\")"
   ]
  },
  {
   "cell_type": "markdown",
   "metadata": {},
   "source": [
    "Either change the directory to where the dataset is present ( By using the os library in Python)"
   ]
  },
  {
   "cell_type": "markdown",
   "metadata": {},
   "source": [
    "X=[]\n",
    "for img in os.listdir(path):\n",
    "    ar=cv2.imread(os.path.join(path,img))\n",
    "    try:\n",
    "        ar[:,:,]\n",
    "    except:\n",
    "        pass\n",
    "    X.append(ar)"
   ]
  },
  {
   "cell_type": "code",
   "execution_count": 11,
   "metadata": {},
   "outputs": [],
   "source": [
    "l = np.load(\"grayscale/gray_scale.npy\")"
   ]
  },
  {
   "cell_type": "code",
   "execution_count": 12,
   "metadata": {},
   "outputs": [],
   "source": [
    "ab1=np.load(\"ab/ab1.npy\")"
   ]
  },
  {
   "cell_type": "code",
   "execution_count": 13,
   "metadata": {},
   "outputs": [],
   "source": [
    "ab2=np.load(\"ab/ab2.npy\")"
   ]
  },
  {
   "cell_type": "code",
   "execution_count": 14,
   "metadata": {},
   "outputs": [],
   "source": [
    "ab3=np.load(\"ab/ab3.npy\")"
   ]
  },
  {
   "cell_type": "code",
   "execution_count": 21,
   "metadata": {},
   "outputs": [
    {
     "ename": "TypeError",
     "evalue": "only integer scalar arrays can be converted to a scalar index",
     "output_type": "error",
     "traceback": [
      "\u001b[0;31m---------------------------------------------------------------------------\u001b[0m",
      "\u001b[0;31mTypeError\u001b[0m                                 Traceback (most recent call last)",
      "\u001b[0;32m<ipython-input-21-03eabccc93a4>\u001b[0m in \u001b[0;36m<module>\u001b[0;34m\u001b[0m\n\u001b[0;32m----> 1\u001b[0;31m \u001b[0mab\u001b[0m\u001b[0;34m=\u001b[0m\u001b[0mnp\u001b[0m\u001b[0;34m.\u001b[0m\u001b[0mconcatenate\u001b[0m\u001b[0;34m(\u001b[0m\u001b[0mab1\u001b[0m\u001b[0;34m,\u001b[0m\u001b[0mab2\u001b[0m\u001b[0;34m)\u001b[0m\u001b[0;34m\u001b[0m\u001b[0;34m\u001b[0m\u001b[0m\n\u001b[0m",
      "\u001b[0;31mTypeError\u001b[0m: only integer scalar arrays can be converted to a scalar index"
     ]
    }
   ],
   "source": [
    "ab=np.concatenate(ab1,ab2)"
   ]
  },
  {
   "cell_type": "code",
   "execution_count": 16,
   "metadata": {},
   "outputs": [
    {
     "data": {
      "text/plain": [
       "(0,)"
      ]
     },
     "execution_count": 16,
     "metadata": {},
     "output_type": "execute_result"
    }
   ],
   "source": [
    "X=np.array(X)\n",
    "X.shape"
   ]
  },
  {
   "cell_type": "code",
   "execution_count": 17,
   "metadata": {},
   "outputs": [
    {
     "data": {
      "text/plain": [
       "(25000, 224, 224)"
      ]
     },
     "execution_count": 17,
     "metadata": {},
     "output_type": "execute_result"
    }
   ],
   "source": [
    "l.shape"
   ]
  },
  {
   "cell_type": "code",
   "execution_count": 18,
   "metadata": {},
   "outputs": [
    {
     "data": {
      "text/plain": [
       "(5000, 224, 224, 2)"
      ]
     },
     "execution_count": 18,
     "metadata": {},
     "output_type": "execute_result"
    }
   ],
   "source": [
    "ab1.shape\n",
    "ab2.shape\n",
    "ab3.shape"
   ]
  },
  {
   "cell_type": "code",
   "execution_count": 19,
   "metadata": {},
   "outputs": [
    {
     "ename": "AttributeError",
     "evalue": "'builtin_function_or_method' object has no attribute 'shape'",
     "output_type": "error",
     "traceback": [
      "\u001b[0;31m---------------------------------------------------------------------------\u001b[0m",
      "\u001b[0;31mAttributeError\u001b[0m                            Traceback (most recent call last)",
      "\u001b[0;32m<ipython-input-19-773ea6cffaee>\u001b[0m in \u001b[0;36m<module>\u001b[0;34m\u001b[0m\n\u001b[0;32m----> 1\u001b[0;31m \u001b[0mab\u001b[0m\u001b[0;34m.\u001b[0m\u001b[0mshape\u001b[0m\u001b[0;34m\u001b[0m\u001b[0;34m\u001b[0m\u001b[0m\n\u001b[0m",
      "\u001b[0;31mAttributeError\u001b[0m: 'builtin_function_or_method' object has no attribute 'shape'"
     ]
    }
   ],
   "source": [
    "ab.shape"
   ]
  },
  {
   "cell_type": "code",
   "execution_count": null,
   "metadata": {},
   "outputs": [],
   "source": [
    "can = np.zeros((224,224,3))"
   ]
  },
  {
   "cell_type": "code",
   "execution_count": null,
   "metadata": {},
   "outputs": [],
   "source": [
    "ind = np.random.randint(0,10000)\n",
    "a = cv2.merge((l[ind],ab1[ind]))"
   ]
  },
  {
   "cell_type": "code",
   "execution_count": null,
   "metadata": {},
   "outputs": [],
   "source": [
    "a= cv2.cvtColor(a,cv2.COLOR_Lab2RGB)"
   ]
  },
  {
   "cell_type": "code",
   "execution_count": null,
   "metadata": {},
   "outputs": [],
   "source": [
    "plt.imshow(a)\n",
    "plt.show()"
   ]
  },
  {
   "cell_type": "code",
   "execution_count": 5,
   "metadata": {},
   "outputs": [],
   "source": [
    "#Loading the data...\n",
    "# OR Make sure this iPython and Data.npz are in same directory\n",
    "data = np.load(\"Data.npz\")"
   ]
  },
  {
   "cell_type": "code",
   "execution_count": 6,
   "metadata": {},
   "outputs": [],
   "source": [
    "#X has the gray scale pixel values\n",
    "#blu has the Blue channel pixel values and so on...\n",
    "X,blu,red,gre = data[\"X\"],data[\"blu\"],data[\"red\"],data[\"gre\"]"
   ]
  },
  {
   "cell_type": "code",
   "execution_count": 7,
   "metadata": {},
   "outputs": [
    {
     "data": {
      "text/plain": [
       "(328, 256, 256, 1)"
      ]
     },
     "execution_count": 7,
     "metadata": {},
     "output_type": "execute_result"
    }
   ],
   "source": [
    "#The output of this block should be :\n",
    "#(328, 256, 256, 1)\n",
    "#328 is the number of exapmles i.e entries in the dataset\n",
    "#(256, 256) is the size of the image\n",
    "# The one in the end means its only a single channel i.e only gray scale\n",
    "X.shape"
   ]
  },
  {
   "cell_type": "code",
   "execution_count": 8,
   "metadata": {},
   "outputs": [],
   "source": [
    "#Model/Architecture/Neural Net for our code...\n",
    "#There are three networks one for each channel so you have to train all three of them\n",
    "#Try running this as it is...if you think the processing is going smoothly then.... \n",
    "#....try un-commenting some layers (But not the MaxPooling ones) \n",
    "#Make sure to make the same changes in all three of the networks if you make any....\n",
    "\n",
    "\n",
    "#For Blue Channel\n",
    "model_blu=Sequential()\n",
    "model_blu.add(Conv2D(64,kernel_size=(1,1), input_shape=(256,256,1), activation='relu'))\n",
    "model_blu.add(Conv2D(64,kernel_size=(3,3), activation='relu',padding=\"same\"))\n",
    "#model_blu.add(MaxPooling2D(padding=\"same\"))\n",
    "model_blu.add(Conv2D(128,kernel_size=(1,1), activation='relu'))\n",
    "#model_blu.add(Conv2D(128,kernel_size=(3,3), activation='relu',padding=\"same\"))\n",
    "#model_blu.add(MaxPooling2D(padding=\"same\"))\n",
    "#model_blu.add(Conv2D(256,kernel_size=(1,1), activation='relu'))\n",
    "#model_blu.add(Conv2D(256,kernel_size=(1,1), activation='relu'))\n",
    "#model_blu.add(Conv2D(256,kernel_size=(3,3), activation='relu',padding=\"same\"))\n",
    "#model_blu.add(MaxPooling2D(padding=\"same\"))\n",
    "#model_blu.add(Conv2D(512,kernel_size=(1,1), activation='relu'))\n",
    "#model_blu.add(Conv2D(512,kernel_size=(1,1), activation='relu'))\n",
    "#model_blu.add(Conv2D(512,kernel_size=(3,3), activation='relu',padding=\"same\"))\n",
    "#model_blu.add(MaxPooling2D(padding=\"same\"))\n",
    "#model_blu.add(Conv2D(256,kernel_size=(1,1), activation='relu'))\n",
    "#model_blu.add(Conv2D(256,kernel_size=(1,1), activation='relu'))\n",
    "#model_blu.add(Conv2D(256,kernel_size=(3,3), activation='relu',padding=\"same\"))\n",
    "#model_blu.add(MaxPooling2D(padding=\"same\"))\n",
    "model_blu.add(Conv2D(128,kernel_size=(1,1), activation='relu'))\n",
    "model_blu.add(Conv2D(64,kernel_size=(3,3), activation='relu',padding=\"same\"))\n",
    "model_blu.add(Conv2D(64,kernel_size=(1,1), activation='relu'))\n",
    "#model_blu.add(Conv2D(64,kernel_size=(3,3), activation='relu',padding=\"same\"))\n",
    "model_blu.add(Conv2D(1,kernel_size=(1,1), activation='relu'))"
   ]
  },
  {
   "cell_type": "code",
   "execution_count": 9,
   "metadata": {},
   "outputs": [],
   "source": [
    "#For Red Channel\n",
    "model_red=Sequential()\n",
    "model_red.add(Conv2D(64,kernel_size=(1,1), input_shape=(256,256,1), activation='relu'))\n",
    "model_red.add(Conv2D(64,kernel_size=(3,3), activation='relu',padding=\"same\"))\n",
    "#model_red.add(MaxPooling2D(padding=\"same\"))\n",
    "model_red.add(Conv2D(128,kernel_size=(1,1), activation='relu'))\n",
    "#model_red.add(Conv2D(128,kernel_size=(3,3), activation='relu',padding=\"same\"))\n",
    "#model_red.add(MaxPooling2D(padding=\"same\"))\n",
    "#model_red.add(Conv2D(256,kernel_size=(1,1), activation='relu'))\n",
    "#model_red.add(Conv2D(256,kernel_size=(1,1), activation='relu'))\n",
    "#model_red.add(Conv2D(256,kernel_size=(3,3), activation='relu',padding=\"same\"))\n",
    "#model_red.add(MaxPooling2D(padding=\"same\"))\n",
    "#model_red.add(Conv2D(512,kernel_size=(1,1), activation='relu'))\n",
    "#model_red.add(Conv2D(512,kernel_size=(1,1), activation='relu'))\n",
    "#model_red.add(Conv2D(512,kernel_size=(3,3), activation='relu',padding=\"same\"))\n",
    "#model_red.add(MaxPooling2D(padding=\"same\"))\n",
    "#model_red.add(Conv2D(256,kernel_size=(1,1), activation='relu'))\n",
    "#model_red.add(Conv2D(256,kernel_size=(1,1), activation='relu'))\n",
    "#model_red.add(Conv2D(256,kernel_size=(3,3), activation='relu',padding=\"same\"))\n",
    "#model_red.add(MaxPooling2D(padding=\"same\"))\n",
    "model_red.add(Conv2D(128,kernel_size=(1,1), activation='relu'))\n",
    "#model_red.add(Conv2D(128,kernel_size=(3,3), activation='relu',padding=\"same\"))\n",
    "model_red.add(Conv2D(64,kernel_size=(3,3), activation='relu',padding=\"same\"))\n",
    "model_red.add(Conv2D(64,kernel_size=(1,1), activation='relu'))\n",
    "#model_red.add(Conv2D(64,kernel_size=(3,3), activation='relu',padding=\"same\"))\n",
    "model_red.add(Conv2D(1,kernel_size=(1,1), activation='relu'))"
   ]
  },
  {
   "cell_type": "code",
   "execution_count": 10,
   "metadata": {},
   "outputs": [],
   "source": [
    "#For Green Channel\n",
    "model_gre=Sequential()\n",
    "model_gre.add(Conv2D(64,kernel_size=(1,1), input_shape=(256,256,1), activation='relu'))\n",
    "model_gre.add(Conv2D(64,kernel_size=(3,3), activation='relu',padding=\"same\"))\n",
    "#model_gre.add(MaxPooling2D(padding=\"same\"))\n",
    "model_gre.add(Conv2D(128,kernel_size=(1,1), activation='relu'))\n",
    "#model_gre.add(Conv2D(128,kernel_size=(3,3), activation='relu',padding=\"same\"))\n",
    "#model_gre.add(MaxPooling2D(padding=\"same\"))\n",
    "#model_gre.add(Conv2D(256,kernel_size=(1,1), activation='relu'))\n",
    "#model_gre.add(Conv2D(256,kernel_size=(1,1), activation='relu'))\n",
    "#model_gre.add(Conv2D(256,kernel_size=(3,3), activation='relu',padding=\"same\"))\n",
    "#model_gre.add(MaxPooling2D(padding=\"same\"))\n",
    "#model_gre.add(Conv2D(512,kernel_size=(1,1), activation='relu'))\n",
    "#model_gre.add(Conv2D(512,kernel_size=(1,1), activation='relu'))\n",
    "#model_gre.add(Conv2D(512,kernel_size=(3,3), activation='relu',padding=\"same\"))\n",
    "#model_gre.add(MaxPooling2D(padding=\"same\"))\n",
    "#model_gre.add(Conv2D(256,kernel_size=(1,1), activation='relu'))\n",
    "#model_gre.add(Conv2D(256,kernel_size=(1,1), activation='relu'))\n",
    "#model_gre.add(Conv2D(256,kernel_size=(3,3), activation='relu',padding=\"same\"))\n",
    "#model_gre.add(MaxPooling2D(padding=\"same\"))\n",
    "model_gre.add(Conv2D(128,kernel_size=(1,1), activation='relu'))\n",
    "#model_gre.add(Conv2D(128,kernel_size=(3,3), activation='relu',padding=\"same\"))\n",
    "model_gre.add(Conv2D(64,kernel_size=(3,3), activation='relu',padding=\"same\"))\n",
    "model_gre.add(Conv2D(64,kernel_size=(1,1), activation='relu'))\n",
    "#model_gre.add(Conv2D(64,kernel_size=(3,3), activation='relu',padding=\"same\"))\n",
    "model_gre.add(Conv2D(1,kernel_size=(1,1), activation='relu'))"
   ]
  },
  {
   "cell_type": "code",
   "execution_count": 11,
   "metadata": {},
   "outputs": [],
   "source": [
    "model_blu.compile(optimizer=\"adam\", loss=\"mean_squared_error\")\n",
    "model_red.compile(optimizer=\"adam\", loss=\"mean_squared_error\")\n",
    "model_gre.compile(optimizer=\"adam\", loss=\"mean_squared_error\")"
   ]
  },
  {
   "cell_type": "code",
   "execution_count": 12,
   "metadata": {},
   "outputs": [
    {
     "name": "stdout",
     "output_type": "stream",
     "text": [
      "Epoch 1/1\n",
      "328/328 [==============================] - 125s 380ms/step - loss: 0.0237\n"
     ]
    },
    {
     "data": {
      "text/plain": [
       "<keras.callbacks.History at 0x7f5694360f98>"
      ]
     },
     "execution_count": 12,
     "metadata": {},
     "output_type": "execute_result"
    }
   ],
   "source": [
    "#This block executes the training for the blue channel \n",
    "model_blu.fit(X,blu,batch_size=1)"
   ]
  },
  {
   "cell_type": "code",
   "execution_count": 13,
   "metadata": {},
   "outputs": [],
   "source": [
    "#This block saves the trained model \n",
    "#We only need these three \".h5\" files..\n",
    "#If this gives an error then try removing the .h5 \n",
    "model_blu.save(\"blu_rl.h5\")"
   ]
  },
  {
   "cell_type": "code",
   "execution_count": 14,
   "metadata": {},
   "outputs": [
    {
     "name": "stdout",
     "output_type": "stream",
     "text": [
      "Epoch 1/1\n",
      "328/328 [==============================] - 109s 332ms/step - loss: 0.0106\n"
     ]
    },
    {
     "data": {
      "text/plain": [
       "<keras.callbacks.History at 0x7f56940a4b00>"
      ]
     },
     "execution_count": 14,
     "metadata": {},
     "output_type": "execute_result"
    }
   ],
   "source": [
    "model_gre.fit(X,gre, batch_size=1)"
   ]
  },
  {
   "cell_type": "code",
   "execution_count": 18,
   "metadata": {},
   "outputs": [],
   "source": [
    "model_gre.save(\"gre_rl.h5\")"
   ]
  },
  {
   "cell_type": "code",
   "execution_count": 19,
   "metadata": {},
   "outputs": [
    {
     "name": "stdout",
     "output_type": "stream",
     "text": [
      "Epoch 1/1\n",
      "328/328 [==============================] - 87s 264ms/step - loss: 0.0073\n"
     ]
    },
    {
     "data": {
      "text/plain": [
       "<keras.callbacks.History at 0x7f8bd01c06a0>"
      ]
     },
     "execution_count": 19,
     "metadata": {},
     "output_type": "execute_result"
    }
   ],
   "source": [
    "model_red.fit(X,red,batch_size=1)"
   ]
  },
  {
   "cell_type": "code",
   "execution_count": 20,
   "metadata": {},
   "outputs": [],
   "source": [
    "model_red.save(\"red_rl.h5\")"
   ]
  },
  {
   "cell_type": "code",
   "execution_count": null,
   "metadata": {},
   "outputs": [],
   "source": []
  }
 ],
 "metadata": {
  "kernelspec": {
   "display_name": "Python 3",
   "language": "python",
   "name": "python3"
  },
  "language_info": {
   "codemirror_mode": {
    "name": "ipython",
    "version": 3
   },
   "file_extension": ".py",
   "mimetype": "text/x-python",
   "name": "python",
   "nbconvert_exporter": "python",
   "pygments_lexer": "ipython3",
   "version": "3.6.8"
  }
 },
 "nbformat": 4,
 "nbformat_minor": 2
}
