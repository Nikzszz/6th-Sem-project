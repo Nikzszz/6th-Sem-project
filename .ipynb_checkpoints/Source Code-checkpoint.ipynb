{
 "cells": [
  {
   "cell_type": "code",
   "execution_count": 9,
   "metadata": {},
   "outputs": [],
   "source": [
    "import keras\n",
    "from keras.models import Sequential\n",
    "from keras.layers import Dense, Conv2D\n",
    "from keras.layers.pooling import MaxPooling2D"
   ]
  },
  {
   "cell_type": "code",
   "execution_count": 10,
   "metadata": {},
   "outputs": [],
   "source": [
    "import os\n",
    "import numpy as np\n",
    "import pandas as pd"
   ]
  },
  {
   "cell_type": "code",
   "execution_count": 11,
   "metadata": {},
   "outputs": [],
   "source": [
    "os.chdir(\"/home/rohit/6th-Sem-project/code\")"
   ]
  },
  {
   "cell_type": "markdown",
   "metadata": {},
   "source": [
    "Either change the directory to where the dataset is present ( By using the os library in Python)"
   ]
  },
  {
   "cell_type": "code",
   "execution_count": 12,
   "metadata": {},
   "outputs": [],
   "source": [
    "#Loading the data...\n",
    "# OR Make sure this iPython and Data.npz are in same directory\n",
    "data = np.load(\"Data.npz\")"
   ]
  },
  {
   "cell_type": "code",
   "execution_count": 13,
   "metadata": {},
   "outputs": [],
   "source": [
    "#X has the gray scale pixel values\n",
    "#blu has the Blue channel pixel values and so on...\n",
    "X,blu,red,gre = data[\"X\"],data[\"blu\"],data[\"red\"],data[\"gre\"]"
   ]
  },
  {
   "cell_type": "code",
   "execution_count": 14,
   "metadata": {},
   "outputs": [
    {
     "data": {
      "text/plain": [
       "(328, 256, 256, 1)"
      ]
     },
     "execution_count": 14,
     "metadata": {},
     "output_type": "execute_result"
    }
   ],
   "source": [
    "#The output of this block should be :\n",
    "#(328, 256, 256, 1)\n",
    "#328 is the number of exapmles i.e entries in the dataset\n",
    "#(256, 256) is the size of the image\n",
    "# The one in the end means its only a single channel i.e only gray scale\n",
    "X.shape"
   ]
  },
  {
   "cell_type": "code",
   "execution_count": 15,
   "metadata": {},
   "outputs": [],
   "source": [
    "#Model/Architecture/Neural Net for our code...\n",
    "#There are three networks one for each channel so you have to train all three of them\n",
    "#Try running this as it is...if you think the processing is going smoothly then.... \n",
    "#....try un-commenting some layers (But not the MaxPooling ones) \n",
    "#Make sure to make the same changes in all three of the networks if you make any....\n",
    "\n",
    "\n",
    "#For Blue Channel\n",
    "model_blu=Sequential()\n",
    "model_blu.add(Conv2D(64,kernel_size=(1,1), input_shape=(256,256,1), activation='relu'))\n",
    "model_blu.add(Conv2D(64,kernel_size=(3,3), activation='relu',padding=\"same\"))\n",
    "#model_blu.add(MaxPooling2D(padding=\"same\"))\n",
    "#model_blu.add(Conv2D(128,kernel_size=(1,1), activation='relu'))\n",
    "model_blu.add(Conv2D(128,kernel_size=(3,3), activation='relu',padding=\"same\"))\n",
    "#model_blu.add(MaxPooling2D(padding=\"same\"))\n",
    "#model_blu.add(Conv2D(256,kernel_size=(1,1), activation='relu'))\n",
    "#model_blu.add(Conv2D(256,kernel_size=(1,1), activation='relu'))\n",
    "model_blu.add(Conv2D(256,kernel_size=(3,3), activation='relu',padding=\"same\"))\n",
    "#model_blu.add(MaxPooling2D(padding=\"same\"))\n",
    "#model_blu.add(Conv2D(512,kernel_size=(1,1), activation='relu'))\n",
    "#model_blu.add(Conv2D(512,kernel_size=(1,1), activation='relu'))\n",
    "#model_blu.add(Conv2D(512,kernel_size=(3,3), activation='relu',padding=\"same\"))\n",
    "#model_blu.add(MaxPooling2D(padding=\"same\"))\n",
    "#model_blu.add(Conv2D(256,kernel_size=(1,1), activation='relu'))\n",
    "#model_blu.add(Conv2D(256,kernel_size=(1,1), activation='relu'))\n",
    "#model_blu.add(Conv2D(256,kernel_size=(3,3), activation='relu',padding=\"same\"))\n",
    "#model_blu.add(MaxPooling2D(padding=\"same\"))\n",
    "model_blu.add(Conv2D(128,kernel_size=(1,1), activation='relu'))\n",
    "model_blu.add(Conv2D(64,kernel_size=(3,3), activation='relu',padding=\"same\"))\n",
    "model_blu.add(Conv2D(64,kernel_size=(1,1), activation='relu'))\n",
    "#model_blu.add(Conv2D(64,kernel_size=(3,3), activation='relu',padding=\"same\"))\n",
    "model_blu.add(Conv2D(1,kernel_size=(1,1), activation='relu'))"
   ]
  },
  {
   "cell_type": "code",
   "execution_count": null,
   "metadata": {},
   "outputs": [],
   "source": []
  }
 ],
 "metadata": {
  "kernelspec": {
   "display_name": "Python 3",
   "language": "python",
   "name": "python3"
  },
  "language_info": {
   "codemirror_mode": {
    "name": "ipython",
    "version": 3
   },
   "file_extension": ".py",
   "mimetype": "text/x-python",
   "name": "python",
   "nbconvert_exporter": "python",
   "pygments_lexer": "ipython3",
   "version": "3.6.8"
  }
 },
 "nbformat": 4,
 "nbformat_minor": 2
}
