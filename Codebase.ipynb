{
 "cells": [
  {
   "cell_type": "code",
   "execution_count": 1,
   "metadata": {},
   "outputs": [
    {
     "name": "stderr",
     "output_type": "stream",
     "text": [
      "Using TensorFlow backend.\n"
     ]
    }
   ],
   "source": [
    "import numpy as np\n",
    "import cv2\n",
    "import matplotlib.pyplot as plt\n",
    "from tqdm import tqdm\n",
    "from keras.layers import add, Conv2D, Input\n",
    "from keras.models import Model, load_model\n",
    "from keras import backend as K\n",
    "import os\n",
    "import warnings\n",
    "warnings.filterwarnings(\"ignore\")"
   ]
  },
  {
   "cell_type": "code",
   "execution_count": 2,
   "metadata": {},
   "outputs": [],
   "source": [
    "def noise(img):\n",
    "  svp = 0.5 \n",
    "  amt = 1 \n",
    "  out = np.copy(img)\n",
    "  #Salt\n",
    "  ns = np.ceil(amt*img.size * svp)\n",
    "  pix = [np.random.randint(0,i,int(ns)) for i in img.shape] \n",
    "  out[pix] = 1\n",
    "  #Pepper\n",
    "  npp = np.ceil(amt*img.size * (1. - svp))\n",
    "  pix = [np.random.randint(0,i,int(npp)) for i in img.shape] \n",
    "  out[pix] = 0\n",
    "  return out"
   ]
  },
  {
   "cell_type": "code",
   "execution_count": 3,
   "metadata": {},
   "outputs": [],
   "source": [
    "def img_prep(img):\n",
    "    hsv = cv2.cvtColor(img, cv2.COLOR_BGR2HSV) \n",
    "    hsv[...,2] = hsv[...,2]*0.2\n",
    "    img = cv2.cvtColor(hsv, cv2.COLOR_HSV2BGR)\n",
    "    img = noise(img)\n",
    "    return img"
   ]
  },
  {
   "cell_type": "code",
   "execution_count": 13,
   "metadata": {},
   "outputs": [],
   "source": [
    "path= \"/home/rohit/Projects/Datasets\""
   ]
  },
  {
   "cell_type": "code",
   "execution_count": 22,
   "metadata": {},
   "outputs": [],
   "source": [
    "os.chdir(\"/home/rohit/Projects/Datasets/images\")"
   ]
  },
  {
   "cell_type": "code",
   "execution_count": 31,
   "metadata": {},
   "outputs": [],
   "source": [
    "ab1= np.load('ab1.npy', fix_imports=True)\n",
    "ab2= np.load('ab2.npy', fix_imports=True)\n",
    "ab3= np.load('ab3.npy', fix_imports=True)"
   ]
  },
  {
   "cell_type": "code",
   "execution_count": 32,
   "metadata": {},
   "outputs": [],
   "source": [
    "ab= np.concatenate((ab1,ab2,ab3), axis=0)"
   ]
  },
  {
   "cell_type": "code",
   "execution_count": 34,
   "metadata": {},
   "outputs": [],
   "source": [
    "l= np.load('gray_scale.npy', fix_imports=True)"
   ]
  },
  {
   "cell_type": "code",
   "execution_count": 48,
   "metadata": {
    "scrolled": false
   },
   "outputs": [],
   "source": [
    "l= l.reshape(25000,224,224,1)"
   ]
  },
  {
   "cell_type": "code",
   "execution_count": 51,
   "metadata": {},
   "outputs": [],
   "source": [
    "X_ = l[0:10000,...]"
   ]
  },
  {
   "cell_type": "code",
   "execution_count": 52,
   "metadata": {
    "scrolled": false
   },
   "outputs": [
    {
     "ename": "error",
     "evalue": "OpenCV(4.0.0) /io/opencv/modules/core/src/merge.cpp:300: error: (-215:Assertion failed) 0 < cn && cn <= CV_CN_MAX in function 'merge'\n",
     "output_type": "error",
     "traceback": [
      "\u001b[0;31m---------------------------------------------------------------------------\u001b[0m",
      "\u001b[0;31merror\u001b[0m                                     Traceback (most recent call last)",
      "\u001b[0;32m<ipython-input-52-01d4781fc3d5>\u001b[0m in \u001b[0;36m<module>\u001b[0;34m\u001b[0m\n\u001b[0;32m----> 1\u001b[0;31m \u001b[0mmerged_images\u001b[0m\u001b[0;34m=\u001b[0m \u001b[0mcv2\u001b[0m\u001b[0;34m.\u001b[0m\u001b[0mmerge\u001b[0m\u001b[0;34m(\u001b[0m\u001b[0mX_\u001b[0m\u001b[0;34m,\u001b[0m \u001b[0mab1\u001b[0m\u001b[0;34m)\u001b[0m\u001b[0;34m\u001b[0m\u001b[0;34m\u001b[0m\u001b[0m\n\u001b[0m",
      "\u001b[0;31merror\u001b[0m: OpenCV(4.0.0) /io/opencv/modules/core/src/merge.cpp:300: error: (-215:Assertion failed) 0 < cn && cn <= CV_CN_MAX in function 'merge'\n"
     ]
    }
   ],
   "source": [
    "merged_images= cv2.merge(X_, ab1)"
   ]
  },
  {
   "cell_type": "code",
   "execution_count": null,
   "metadata": {},
   "outputs": [],
   "source": [
    "images = cv2.cvtColor(merged_images, cv2.COLOR_LAB2BGR)"
   ]
  },
  {
   "cell_type": "code",
   "execution_count": 21,
   "metadata": {},
   "outputs": [
    {
     "name": "stderr",
     "output_type": "stream",
     "text": [
      "  0%|          | 0/2 [00:00<?, ?it/s]\n"
     ]
    },
    {
     "ename": "error",
     "evalue": "OpenCV(4.0.0) /io/opencv/modules/imgproc/src/resize.cpp:3784: error: (-215:Assertion failed) !ssize.empty() in function 'resize'\n",
     "output_type": "error",
     "traceback": [
      "\u001b[0;31m---------------------------------------------------------------------------\u001b[0m",
      "\u001b[0;31merror\u001b[0m                                     Traceback (most recent call last)",
      "\u001b[0;32m<ipython-input-21-74f025a64cf6>\u001b[0m in \u001b[0;36m<module>\u001b[0;34m\u001b[0m\n\u001b[1;32m      4\u001b[0m \u001b[0;32mfor\u001b[0m \u001b[0mi\u001b[0m \u001b[0;32min\u001b[0m \u001b[0mtqdm\u001b[0m\u001b[0;34m(\u001b[0m\u001b[0mos\u001b[0m\u001b[0;34m.\u001b[0m\u001b[0mlistdir\u001b[0m\u001b[0;34m(\u001b[0m\u001b[0mpath\u001b[0m\u001b[0;34m)\u001b[0m\u001b[0;34m)\u001b[0m\u001b[0;34m:\u001b[0m\u001b[0;34m\u001b[0m\u001b[0;34m\u001b[0m\u001b[0m\n\u001b[1;32m      5\u001b[0m     \u001b[0mimg\u001b[0m \u001b[0;34m=\u001b[0m \u001b[0mcv2\u001b[0m\u001b[0;34m.\u001b[0m\u001b[0mimread\u001b[0m\u001b[0;34m(\u001b[0m\u001b[0mos\u001b[0m\u001b[0;34m.\u001b[0m\u001b[0mpath\u001b[0m\u001b[0;34m.\u001b[0m\u001b[0mjoin\u001b[0m\u001b[0;34m(\u001b[0m\u001b[0mpath\u001b[0m\u001b[0;34m,\u001b[0m\u001b[0mi\u001b[0m\u001b[0;34m)\u001b[0m\u001b[0;34m)\u001b[0m\u001b[0;34m\u001b[0m\u001b[0;34m\u001b[0m\u001b[0m\n\u001b[0;32m----> 6\u001b[0;31m     \u001b[0mimg\u001b[0m \u001b[0;34m=\u001b[0m \u001b[0mcv2\u001b[0m\u001b[0;34m.\u001b[0m\u001b[0mresize\u001b[0m\u001b[0;34m(\u001b[0m\u001b[0mimg\u001b[0m\u001b[0;34m,\u001b[0m \u001b[0;34m(\u001b[0m\u001b[0;36m224\u001b[0m\u001b[0;34m,\u001b[0m\u001b[0;36m224\u001b[0m\u001b[0;34m)\u001b[0m\u001b[0;34m)\u001b[0m\u001b[0;34m\u001b[0m\u001b[0;34m\u001b[0m\u001b[0m\n\u001b[0m\u001b[1;32m      7\u001b[0m     \u001b[0my\u001b[0m\u001b[0;34m.\u001b[0m\u001b[0mappend\u001b[0m\u001b[0;34m(\u001b[0m\u001b[0mimg\u001b[0m\u001b[0;34m)\u001b[0m\u001b[0;34m\u001b[0m\u001b[0;34m\u001b[0m\u001b[0m\n\u001b[1;32m      8\u001b[0m     \u001b[0mX\u001b[0m\u001b[0;34m.\u001b[0m\u001b[0mappend\u001b[0m\u001b[0;34m(\u001b[0m\u001b[0mimg_prep\u001b[0m\u001b[0;34m(\u001b[0m\u001b[0mimg\u001b[0m\u001b[0;34m)\u001b[0m\u001b[0;34m)\u001b[0m\u001b[0;34m\u001b[0m\u001b[0;34m\u001b[0m\u001b[0m\n",
      "\u001b[0;31merror\u001b[0m: OpenCV(4.0.0) /io/opencv/modules/imgproc/src/resize.cpp:3784: error: (-215:Assertion failed) !ssize.empty() in function 'resize'\n"
     ]
    }
   ],
   "source": [
    "X = []\n",
    "y = []\n",
    "l=0\n",
    "try:\n",
    "for i in tqdm(os.listdir(path)):\n",
    "    img = cv2.imread(os.path.join(path,i))\n",
    "    img = cv2.resize(img, (224,224))\n",
    "    y.append(img)\n",
    "    X.append(img_prep(img))\n",
    "    l = l+1\n",
    "    if l>1500:\n",
    "        break\n",
    "X=np.array(X)\n",
    "y=np.array(y)"
   ]
  },
  {
   "cell_type": "code",
   "execution_count": null,
   "metadata": {},
   "outputs": [],
   "source": [
    "K.clear_session()\n",
    "def InstantiateModel(in_):\n",
    "    \n",
    "    model_1 = Conv2D(16,(3,3), activation='relu',padding='same',strides=1)(in_)\n",
    "    model_1 = Conv2D(32,(3,3), activation='relu',padding='same',strides=1)(model_1)\n",
    "    model_1 = Conv2D(64,(2,2), activation='relu',padding='same',strides=1)(model_1)\n",
    "    \n",
    "    model_2 = Conv2D(32,(3,3), activation='relu',padding='same',strides=1)(in_)\n",
    "    model_2 = Conv2D(64,(2,2), activation='relu',padding='same',strides=1)(model_2)\n",
    "    \n",
    "    model_2_0 = Conv2D(64,(2,2), activation='relu',padding='same',strides=1)(model_2)\n",
    "    \n",
    "    model_add = add([model_1,model_2,model_2_0])\n",
    "    \n",
    "    model_3 = Conv2D(64,(3,3), activation='relu',padding='same',strides=1)(model_add)\n",
    "    model_3 = Conv2D(32,(3,3), activation='relu',padding='same',strides=1)(model_3)\n",
    "    model_3 = Conv2D(16,(2,2), activation='relu',padding='same',strides=1)(model_3)\n",
    "    \n",
    "    model_3_1 = Conv2D(32,(3,3), activation='relu',padding='same',strides=1)(model_add)\n",
    "    model_3_1 = Conv2D(16,(2,2), activation='relu',padding='same',strides=1)(model_3_1)\n",
    "    \n",
    "    model_3_2 = Conv2D(16,(2,2), activation='relu',padding='same',strides=1)(model_add)\n",
    "    \n",
    "    model_add_2 = add([model_3_1,model_3_2,model_3])\n",
    "    \n",
    "    model_4 = Conv2D(16,(3,3), activation='relu',padding='same',strides=1)(model_add_2)\n",
    "    model_4_1 = Conv2D(16,(3,3), activation='relu',padding='same',strides=1)(model_add)\n",
    "    #Extension\n",
    "    model_add_3 = add([model_4_1,model_add_2,model_4])\n",
    "    \n",
    "    model_5 = Conv2D(16,(3,3), activation='relu',padding='same',strides=1)(model_add_3)\n",
    "    model_5 = Conv2D(16,(2,2), activation='relu',padding='same',strides=1)(model_add_3)\n",
    "    \n",
    "    model_5 = Conv2D(3,(3,3), activation='relu',padding='same',strides=1)(model_5)\n",
    "    \n",
    "    return model_5"
   ]
  },
  {
   "cell_type": "code",
   "execution_count": null,
   "metadata": {},
   "outputs": [],
   "source": [
    "Input_Sample = Input(shape=(224, 224,3))\n",
    "Output_ = InstantiateModel(Input_Sample)\n",
    "model = Model(inputs=Input_Sample, outputs=Output_)"
   ]
  },
  {
   "cell_type": "code",
   "execution_count": null,
   "metadata": {},
   "outputs": [],
   "source": [
    "model.compile(optimizer=\"adam\", loss='mean_squared_error', metrics = ['accuracy'])"
   ]
  },
  {
   "cell_type": "code",
   "execution_count": null,
   "metadata": {},
   "outputs": [],
   "source": [
    "def GI(X,y):\n",
    "    for i in range(len(X)):\n",
    "        X_ = X[i].reshape(1,224,224,3)\n",
    "        y_ = y[i].reshape(1,224,224,3)\n",
    "        yield (X_,y_)"
   ]
  },
  {
   "cell_type": "code",
   "execution_count": null,
   "metadata": {},
   "outputs": [],
   "source": [
    "Training = False"
   ]
  },
  {
   "cell_type": "code",
   "execution_count": null,
   "metadata": {},
   "outputs": [],
   "source": [
    "if Training:\n",
    "    model.fit_generator(GI(X_,y),epochs=50,verbose=1,steps_per_epoch=100,shuffle=True)\n",
    "    model.save(\"Low_light_enhancement_v1_224_X_224_1.h5\")\n",
    "else:\n",
    "    model = load_model(\"Low_light_enhancement_v1_224_X_224.h5\")"
   ]
  },
  {
   "cell_type": "code",
   "execution_count": null,
   "metadata": {},
   "outputs": [],
   "source": []
  },
  {
   "cell_type": "code",
   "execution_count": null,
   "metadata": {},
   "outputs": [],
   "source": []
  }
 ],
 "metadata": {
  "kernelspec": {
   "display_name": "Python 3",
   "language": "python",
   "name": "python3"
  },
  "language_info": {
   "codemirror_mode": {
    "name": "ipython",
    "version": 3
   },
   "file_extension": ".py",
   "mimetype": "text/x-python",
   "name": "python",
   "nbconvert_exporter": "python",
   "pygments_lexer": "ipython3",
   "version": "3.6.8"
  }
 },
 "nbformat": 4,
 "nbformat_minor": 2
}
